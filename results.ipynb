{
 "cells": [
  {
   "cell_type": "code",
   "execution_count": 1,
   "metadata": {},
   "outputs": [],
   "source": [
    "import os\n",
    "import glob\n",
    "import pandas as pd\n",
    "import numpy as np\n",
    "from sklearn.metrics import classification_report"
   ]
  },
  {
   "cell_type": "code",
   "execution_count": 2,
   "metadata": {},
   "outputs": [],
   "source": [
    "classifiers = ['NB', 'DT', 'RF']"
   ]
  },
  {
   "cell_type": "markdown",
   "metadata": {},
   "source": [
    "## Import test Results"
   ]
  },
  {
   "cell_type": "code",
   "execution_count": 10,
   "metadata": {},
   "outputs": [],
   "source": [
    "def get_results(path):\n",
    "    df = pd.read_csv(path)\n",
    "    \n",
    "    class_name_pair = np.unique([ (t,f'{p}') for t,p in df[['class', 'label']].values ], axis=0)\n",
    "    classes = { k:v for v,k in class_name_pair }\n",
    "    \n",
    "    metrics = classification_report(df.label, df.prediction, output_dict=True)\n",
    "    rows = []\n",
    "    for k in sorted(classes.keys(), key=lambda x: float(x)):\n",
    "        r = (classes[k], metrics[k]['precision'], metrics[k]['recall'], metrics[k]['f1-score'], metrics[k]['support'])\n",
    "        rows.append(r)\n",
    "        \n",
    "    df_metrics = pd.DataFrame(rows, columns=['class',  'precision', 'recall', 'f1-score', 'support'])\n",
    "    \n",
    "    return df_metrics, metrics"
   ]
  },
  {
   "cell_type": "code",
   "execution_count": 13,
   "metadata": {},
   "outputs": [
    {
     "name": "stderr",
     "output_type": "stream",
     "text": [
      "/home/k4t0mono/.local/lib/python3.9/site-packages/sklearn/metrics/_classification.py:1245: UndefinedMetricWarning: Precision and F-score are ill-defined and being set to 0.0 in labels with no predicted samples. Use `zero_division` parameter to control this behavior.\n",
      "  _warn_prf(average, modifier, msg_start, len(result))\n",
      "/home/k4t0mono/.local/lib/python3.9/site-packages/sklearn/metrics/_classification.py:1245: UndefinedMetricWarning: Precision and F-score are ill-defined and being set to 0.0 in labels with no predicted samples. Use `zero_division` parameter to control this behavior.\n",
      "  _warn_prf(average, modifier, msg_start, len(result))\n",
      "/home/k4t0mono/.local/lib/python3.9/site-packages/sklearn/metrics/_classification.py:1245: UndefinedMetricWarning: Precision and F-score are ill-defined and being set to 0.0 in labels with no predicted samples. Use `zero_division` parameter to control this behavior.\n",
      "  _warn_prf(average, modifier, msg_start, len(result))\n",
      "/home/k4t0mono/.local/lib/python3.9/site-packages/sklearn/metrics/_classification.py:1245: UndefinedMetricWarning: Precision and F-score are ill-defined and being set to 0.0 in labels with no predicted samples. Use `zero_division` parameter to control this behavior.\n",
      "  _warn_prf(average, modifier, msg_start, len(result))\n",
      "/home/k4t0mono/.local/lib/python3.9/site-packages/sklearn/metrics/_classification.py:1245: UndefinedMetricWarning: Precision and F-score are ill-defined and being set to 0.0 in labels with no predicted samples. Use `zero_division` parameter to control this behavior.\n",
      "  _warn_prf(average, modifier, msg_start, len(result))\n",
      "/home/k4t0mono/.local/lib/python3.9/site-packages/sklearn/metrics/_classification.py:1245: UndefinedMetricWarning: Precision and F-score are ill-defined and being set to 0.0 in labels with no predicted samples. Use `zero_division` parameter to control this behavior.\n",
      "  _warn_prf(average, modifier, msg_start, len(result))\n",
      "/home/k4t0mono/.local/lib/python3.9/site-packages/sklearn/metrics/_classification.py:1245: UndefinedMetricWarning: Precision and F-score are ill-defined and being set to 0.0 in labels with no predicted samples. Use `zero_division` parameter to control this behavior.\n",
      "  _warn_prf(average, modifier, msg_start, len(result))\n",
      "/home/k4t0mono/.local/lib/python3.9/site-packages/sklearn/metrics/_classification.py:1245: UndefinedMetricWarning: Precision and F-score are ill-defined and being set to 0.0 in labels with no predicted samples. Use `zero_division` parameter to control this behavior.\n",
      "  _warn_prf(average, modifier, msg_start, len(result))\n",
      "/home/k4t0mono/.local/lib/python3.9/site-packages/sklearn/metrics/_classification.py:1245: UndefinedMetricWarning: Precision and F-score are ill-defined and being set to 0.0 in labels with no predicted samples. Use `zero_division` parameter to control this behavior.\n",
      "  _warn_prf(average, modifier, msg_start, len(result))\n"
     ]
    }
   ],
   "source": [
    "metrics = []\n",
    "for cls_ in classifiers:\n",
    "    path = glob.glob(f'./results/{cls_}/*csv')[0]\n",
    "    mc, m = get_results(path)\n",
    "    metrics.append(m)\n",
    "#     mc.to_clipboard()\n",
    "#     print(cls_)\n",
    "#     input()"
   ]
  },
  {
   "cell_type": "code",
   "execution_count": 20,
   "metadata": {},
   "outputs": [],
   "source": [
    "rows = []\n",
    "for i, m in enumerate(metrics):\n",
    "    r = classifiers[i], m['accuracy'], m['macro avg']['f1-score'], m['weighted avg']['f1-score']\n",
    "    rows.append(r)"
   ]
  },
  {
   "cell_type": "code",
   "execution_count": 22,
   "metadata": {},
   "outputs": [
    {
     "data": {
      "text/html": [
       "<div>\n",
       "<style scoped>\n",
       "    .dataframe tbody tr th:only-of-type {\n",
       "        vertical-align: middle;\n",
       "    }\n",
       "\n",
       "    .dataframe tbody tr th {\n",
       "        vertical-align: top;\n",
       "    }\n",
       "\n",
       "    .dataframe thead th {\n",
       "        text-align: right;\n",
       "    }\n",
       "</style>\n",
       "<table border=\"1\" class=\"dataframe\">\n",
       "  <thead>\n",
       "    <tr style=\"text-align: right;\">\n",
       "      <th></th>\n",
       "      <th>classifiers</th>\n",
       "      <th>accuracy</th>\n",
       "      <th>macro f1</th>\n",
       "      <th>weighted f1</th>\n",
       "    </tr>\n",
       "  </thead>\n",
       "  <tbody>\n",
       "    <tr>\n",
       "      <th>0</th>\n",
       "      <td>NB</td>\n",
       "      <td>0.258616</td>\n",
       "      <td>0.005787</td>\n",
       "      <td>0.110225</td>\n",
       "    </tr>\n",
       "    <tr>\n",
       "      <th>1</th>\n",
       "      <td>DT</td>\n",
       "      <td>0.267168</td>\n",
       "      <td>0.023476</td>\n",
       "      <td>0.131643</td>\n",
       "    </tr>\n",
       "    <tr>\n",
       "      <th>2</th>\n",
       "      <td>RF</td>\n",
       "      <td>0.265937</td>\n",
       "      <td>0.026461</td>\n",
       "      <td>0.130471</td>\n",
       "    </tr>\n",
       "  </tbody>\n",
       "</table>\n",
       "</div>"
      ],
      "text/plain": [
       "  classifiers  accuracy  macro f1  weighted f1\n",
       "0          NB  0.258616  0.005787     0.110225\n",
       "1          DT  0.267168  0.023476     0.131643\n",
       "2          RF  0.265937  0.026461     0.130471"
      ]
     },
     "execution_count": 22,
     "metadata": {},
     "output_type": "execute_result"
    }
   ],
   "source": [
    "df_metrics = pd.DataFrame(rows, columns=('classifiers', 'accuracy', 'macro f1', 'weighted f1'))\n",
    "df_metrics"
   ]
  },
  {
   "cell_type": "code",
   "execution_count": 23,
   "metadata": {},
   "outputs": [],
   "source": [
    "df_metrics.to_clipboard()"
   ]
  },
  {
   "cell_type": "markdown",
   "metadata": {},
   "source": [
    "## ANOVA"
   ]
  },
  {
   "cell_type": "code",
   "execution_count": 31,
   "metadata": {},
   "outputs": [],
   "source": [
    "import pingouin as pg\n",
    "from sklearn.metrics import accuracy_score, f1_score"
   ]
  },
  {
   "cell_type": "code",
   "execution_count": 27,
   "metadata": {},
   "outputs": [],
   "source": [
    "cls_ = 'NB'\n",
    "files = []\n",
    "for i in range(10,):\n",
    "    fl = glob.glob(f'./results/{cls_}/CV_{i}/*csv')[0]\n",
    "    files.append(fl)"
   ]
  },
  {
   "cell_type": "code",
   "execution_count": 84,
   "metadata": {},
   "outputs": [],
   "source": [
    "def get_fold_metrics(path):\n",
    "    df = pd.read_csv(path)\n",
    "    \n",
    "    acc = accuracy_score(df.label, df.prediction)\n",
    "    f1w = f1_score(df.label, df.prediction, average='weighted')\n",
    "    f1m = f1_score(df.label, df.prediction, average='macro')\n",
    "    \n",
    "    return acc, f1w, f1m"
   ]
  },
  {
   "cell_type": "code",
   "execution_count": 85,
   "metadata": {},
   "outputs": [],
   "source": [
    "def cls_cv_metrics(cls_):\n",
    "    files = []\n",
    "    for i in range(10,):\n",
    "        fl = glob.glob(f'./results/{cls_}/CV_{i}/*csv')[0]\n",
    "        files.append(fl)\n",
    "        \n",
    "    rows = []\n",
    "    for i, fl in enumerate(files):\n",
    "        r = get_fold_metrics(fl)\n",
    "        rows.append((i, *r))\n",
    "    \n",
    "    return rows"
   ]
  },
  {
   "cell_type": "code",
   "execution_count": 86,
   "metadata": {},
   "outputs": [],
   "source": [
    "rows = []\n",
    "for cls_ in classifiers:\n",
    "    r = cls_cv_metrics(cls_)\n",
    "    rows.extend([ (cls_, *x) for x in r])"
   ]
  },
  {
   "cell_type": "code",
   "execution_count": 89,
   "metadata": {},
   "outputs": [
    {
     "data": {
      "text/html": [
       "<div>\n",
       "<style scoped>\n",
       "    .dataframe tbody tr th:only-of-type {\n",
       "        vertical-align: middle;\n",
       "    }\n",
       "\n",
       "    .dataframe tbody tr th {\n",
       "        vertical-align: top;\n",
       "    }\n",
       "\n",
       "    .dataframe thead th {\n",
       "        text-align: right;\n",
       "    }\n",
       "</style>\n",
       "<table border=\"1\" class=\"dataframe\">\n",
       "  <thead>\n",
       "    <tr style=\"text-align: right;\">\n",
       "      <th></th>\n",
       "      <th>classifier</th>\n",
       "      <th>fold</th>\n",
       "      <th>accuracy</th>\n",
       "      <th>f1w</th>\n",
       "      <th>f1m</th>\n",
       "    </tr>\n",
       "  </thead>\n",
       "  <tbody>\n",
       "    <tr>\n",
       "      <th>0</th>\n",
       "      <td>NB</td>\n",
       "      <td>0</td>\n",
       "      <td>0.260059</td>\n",
       "      <td>0.113768</td>\n",
       "      <td>0.006212</td>\n",
       "    </tr>\n",
       "    <tr>\n",
       "      <th>1</th>\n",
       "      <td>NB</td>\n",
       "      <td>1</td>\n",
       "      <td>0.263390</td>\n",
       "      <td>0.118484</td>\n",
       "      <td>0.006190</td>\n",
       "    </tr>\n",
       "    <tr>\n",
       "      <th>2</th>\n",
       "      <td>NB</td>\n",
       "      <td>2</td>\n",
       "      <td>0.259658</td>\n",
       "      <td>0.113812</td>\n",
       "      <td>0.006265</td>\n",
       "    </tr>\n",
       "    <tr>\n",
       "      <th>3</th>\n",
       "      <td>NB</td>\n",
       "      <td>3</td>\n",
       "      <td>0.261097</td>\n",
       "      <td>0.118047</td>\n",
       "      <td>0.006543</td>\n",
       "    </tr>\n",
       "    <tr>\n",
       "      <th>4</th>\n",
       "      <td>NB</td>\n",
       "      <td>4</td>\n",
       "      <td>0.266184</td>\n",
       "      <td>0.119394</td>\n",
       "      <td>0.006398</td>\n",
       "    </tr>\n",
       "  </tbody>\n",
       "</table>\n",
       "</div>"
      ],
      "text/plain": [
       "  classifier  fold  accuracy       f1w       f1m\n",
       "0         NB     0  0.260059  0.113768  0.006212\n",
       "1         NB     1  0.263390  0.118484  0.006190\n",
       "2         NB     2  0.259658  0.113812  0.006265\n",
       "3         NB     3  0.261097  0.118047  0.006543\n",
       "4         NB     4  0.266184  0.119394  0.006398"
      ]
     },
     "execution_count": 89,
     "metadata": {},
     "output_type": "execute_result"
    }
   ],
   "source": [
    "df = pd.DataFrame(rows, columns=('classifier', 'fold', 'accuracy', 'f1w', 'f1m'))\n",
    "df.head()"
   ]
  },
  {
   "cell_type": "code",
   "execution_count": 71,
   "metadata": {},
   "outputs": [
    {
     "data": {
      "text/html": [
       "<div>\n",
       "<style scoped>\n",
       "    .dataframe tbody tr th:only-of-type {\n",
       "        vertical-align: middle;\n",
       "    }\n",
       "\n",
       "    .dataframe tbody tr th {\n",
       "        vertical-align: top;\n",
       "    }\n",
       "\n",
       "    .dataframe thead th {\n",
       "        text-align: right;\n",
       "    }\n",
       "</style>\n",
       "<table border=\"1\" class=\"dataframe\">\n",
       "  <thead>\n",
       "    <tr style=\"text-align: right;\">\n",
       "      <th></th>\n",
       "      <th>Source</th>\n",
       "      <th>ddof1</th>\n",
       "      <th>ddof2</th>\n",
       "      <th>F</th>\n",
       "      <th>p-unc</th>\n",
       "      <th>np2</th>\n",
       "    </tr>\n",
       "  </thead>\n",
       "  <tbody>\n",
       "    <tr>\n",
       "      <th>0</th>\n",
       "      <td>classifier</td>\n",
       "      <td>2</td>\n",
       "      <td>27</td>\n",
       "      <td>2.191273</td>\n",
       "      <td>0.131256</td>\n",
       "      <td>0.139649</td>\n",
       "    </tr>\n",
       "  </tbody>\n",
       "</table>\n",
       "</div>"
      ],
      "text/plain": [
       "       Source  ddof1  ddof2         F     p-unc       np2\n",
       "0  classifier      2     27  2.191273  0.131256  0.139649"
      ]
     },
     "execution_count": 71,
     "metadata": {},
     "output_type": "execute_result"
    }
   ],
   "source": [
    "pg.anova(data=df, dv='accuracy', between='classifier')"
   ]
  },
  {
   "cell_type": "code",
   "execution_count": 73,
   "metadata": {},
   "outputs": [
    {
     "data": {
      "text/html": [
       "<div>\n",
       "<style scoped>\n",
       "    .dataframe tbody tr th:only-of-type {\n",
       "        vertical-align: middle;\n",
       "    }\n",
       "\n",
       "    .dataframe tbody tr th {\n",
       "        vertical-align: top;\n",
       "    }\n",
       "\n",
       "    .dataframe thead th {\n",
       "        text-align: right;\n",
       "    }\n",
       "</style>\n",
       "<table border=\"1\" class=\"dataframe\">\n",
       "  <thead>\n",
       "    <tr style=\"text-align: right;\">\n",
       "      <th></th>\n",
       "      <th>Source</th>\n",
       "      <th>ddof1</th>\n",
       "      <th>ddof2</th>\n",
       "      <th>F</th>\n",
       "      <th>p-unc</th>\n",
       "      <th>np2</th>\n",
       "    </tr>\n",
       "  </thead>\n",
       "  <tbody>\n",
       "    <tr>\n",
       "      <th>0</th>\n",
       "      <td>classifier</td>\n",
       "      <td>2</td>\n",
       "      <td>27</td>\n",
       "      <td>19.204564</td>\n",
       "      <td>0.000006</td>\n",
       "      <td>0.587214</td>\n",
       "    </tr>\n",
       "  </tbody>\n",
       "</table>\n",
       "</div>"
      ],
      "text/plain": [
       "       Source  ddof1  ddof2          F     p-unc       np2\n",
       "0  classifier      2     27  19.204564  0.000006  0.587214"
      ]
     },
     "execution_count": 73,
     "metadata": {},
     "output_type": "execute_result"
    }
   ],
   "source": [
    "pg.anova(data=df, dv='f1w', between='classifier')"
   ]
  },
  {
   "cell_type": "code",
   "execution_count": 90,
   "metadata": {},
   "outputs": [
    {
     "data": {
      "text/html": [
       "<div>\n",
       "<style scoped>\n",
       "    .dataframe tbody tr th:only-of-type {\n",
       "        vertical-align: middle;\n",
       "    }\n",
       "\n",
       "    .dataframe tbody tr th {\n",
       "        vertical-align: top;\n",
       "    }\n",
       "\n",
       "    .dataframe thead th {\n",
       "        text-align: right;\n",
       "    }\n",
       "</style>\n",
       "<table border=\"1\" class=\"dataframe\">\n",
       "  <thead>\n",
       "    <tr style=\"text-align: right;\">\n",
       "      <th></th>\n",
       "      <th>Source</th>\n",
       "      <th>ddof1</th>\n",
       "      <th>ddof2</th>\n",
       "      <th>F</th>\n",
       "      <th>p-unc</th>\n",
       "      <th>np2</th>\n",
       "    </tr>\n",
       "  </thead>\n",
       "  <tbody>\n",
       "    <tr>\n",
       "      <th>0</th>\n",
       "      <td>classifier</td>\n",
       "      <td>2</td>\n",
       "      <td>27</td>\n",
       "      <td>26.341367</td>\n",
       "      <td>4.518495e-07</td>\n",
       "      <td>0.661156</td>\n",
       "    </tr>\n",
       "  </tbody>\n",
       "</table>\n",
       "</div>"
      ],
      "text/plain": [
       "       Source  ddof1  ddof2          F         p-unc       np2\n",
       "0  classifier      2     27  26.341367  4.518495e-07  0.661156"
      ]
     },
     "execution_count": 90,
     "metadata": {},
     "output_type": "execute_result"
    }
   ],
   "source": [
    "pg.anova(data=df, dv='f1m', between='classifier')"
   ]
  },
  {
   "cell_type": "code",
   "execution_count": 93,
   "metadata": {},
   "outputs": [
    {
     "data": {
      "text/html": [
       "<div>\n",
       "<style scoped>\n",
       "    .dataframe tbody tr th:only-of-type {\n",
       "        vertical-align: middle;\n",
       "    }\n",
       "\n",
       "    .dataframe tbody tr th {\n",
       "        vertical-align: top;\n",
       "    }\n",
       "\n",
       "    .dataframe thead th {\n",
       "        text-align: right;\n",
       "    }\n",
       "</style>\n",
       "<table border=\"1\" class=\"dataframe\">\n",
       "  <thead>\n",
       "    <tr style=\"text-align: right;\">\n",
       "      <th></th>\n",
       "      <th>A</th>\n",
       "      <th>B</th>\n",
       "      <th>mean(A)</th>\n",
       "      <th>mean(B)</th>\n",
       "      <th>diff</th>\n",
       "      <th>se</th>\n",
       "      <th>T</th>\n",
       "      <th>p-tukey</th>\n",
       "      <th>hedges</th>\n",
       "    </tr>\n",
       "  </thead>\n",
       "  <tbody>\n",
       "    <tr>\n",
       "      <th>0</th>\n",
       "      <td>DT</td>\n",
       "      <td>NB</td>\n",
       "      <td>0.12819</td>\n",
       "      <td>0.116630</td>\n",
       "      <td>0.011560</td>\n",
       "      <td>0.002416</td>\n",
       "      <td>4.784486</td>\n",
       "      <td>0.001000</td>\n",
       "      <td>2.049278</td>\n",
       "    </tr>\n",
       "    <tr>\n",
       "      <th>1</th>\n",
       "      <td>DT</td>\n",
       "      <td>RF</td>\n",
       "      <td>0.12819</td>\n",
       "      <td>0.130653</td>\n",
       "      <td>-0.002463</td>\n",
       "      <td>0.002416</td>\n",
       "      <td>-1.019262</td>\n",
       "      <td>0.560676</td>\n",
       "      <td>-0.436568</td>\n",
       "    </tr>\n",
       "    <tr>\n",
       "      <th>2</th>\n",
       "      <td>NB</td>\n",
       "      <td>RF</td>\n",
       "      <td>0.11663</td>\n",
       "      <td>0.130653</td>\n",
       "      <td>-0.014023</td>\n",
       "      <td>0.002416</td>\n",
       "      <td>-5.803748</td>\n",
       "      <td>0.001000</td>\n",
       "      <td>-2.485845</td>\n",
       "    </tr>\n",
       "  </tbody>\n",
       "</table>\n",
       "</div>"
      ],
      "text/plain": [
       "    A   B  mean(A)   mean(B)      diff        se         T   p-tukey    hedges\n",
       "0  DT  NB  0.12819  0.116630  0.011560  0.002416  4.784486  0.001000  2.049278\n",
       "1  DT  RF  0.12819  0.130653 -0.002463  0.002416 -1.019262  0.560676 -0.436568\n",
       "2  NB  RF  0.11663  0.130653 -0.014023  0.002416 -5.803748  0.001000 -2.485845"
      ]
     },
     "execution_count": 93,
     "metadata": {},
     "output_type": "execute_result"
    }
   ],
   "source": [
    "pg.pairwise_tukey(data=df, dv='f1w', between='classifier')"
   ]
  },
  {
   "cell_type": "code",
   "execution_count": 94,
   "metadata": {},
   "outputs": [
    {
     "data": {
      "text/html": [
       "<div>\n",
       "<style scoped>\n",
       "    .dataframe tbody tr th:only-of-type {\n",
       "        vertical-align: middle;\n",
       "    }\n",
       "\n",
       "    .dataframe tbody tr th {\n",
       "        vertical-align: top;\n",
       "    }\n",
       "\n",
       "    .dataframe thead th {\n",
       "        text-align: right;\n",
       "    }\n",
       "</style>\n",
       "<table border=\"1\" class=\"dataframe\">\n",
       "  <thead>\n",
       "    <tr style=\"text-align: right;\">\n",
       "      <th></th>\n",
       "      <th>A</th>\n",
       "      <th>B</th>\n",
       "      <th>mean(A)</th>\n",
       "      <th>mean(B)</th>\n",
       "      <th>diff</th>\n",
       "      <th>se</th>\n",
       "      <th>T</th>\n",
       "      <th>p-tukey</th>\n",
       "      <th>hedges</th>\n",
       "    </tr>\n",
       "  </thead>\n",
       "  <tbody>\n",
       "    <tr>\n",
       "      <th>0</th>\n",
       "      <td>DT</td>\n",
       "      <td>NB</td>\n",
       "      <td>0.013794</td>\n",
       "      <td>0.006620</td>\n",
       "      <td>0.007174</td>\n",
       "      <td>0.001384</td>\n",
       "      <td>5.184603</td>\n",
       "      <td>0.001000</td>\n",
       "      <td>2.220655</td>\n",
       "    </tr>\n",
       "    <tr>\n",
       "      <th>1</th>\n",
       "      <td>DT</td>\n",
       "      <td>RF</td>\n",
       "      <td>0.013794</td>\n",
       "      <td>0.016294</td>\n",
       "      <td>-0.002500</td>\n",
       "      <td>0.001384</td>\n",
       "      <td>-1.806785</td>\n",
       "      <td>0.171033</td>\n",
       "      <td>-0.773877</td>\n",
       "    </tr>\n",
       "    <tr>\n",
       "      <th>2</th>\n",
       "      <td>NB</td>\n",
       "      <td>RF</td>\n",
       "      <td>0.006620</td>\n",
       "      <td>0.016294</td>\n",
       "      <td>-0.009674</td>\n",
       "      <td>0.001384</td>\n",
       "      <td>-6.991389</td>\n",
       "      <td>0.001000</td>\n",
       "      <td>-2.994532</td>\n",
       "    </tr>\n",
       "  </tbody>\n",
       "</table>\n",
       "</div>"
      ],
      "text/plain": [
       "    A   B   mean(A)   mean(B)      diff        se         T   p-tukey  \\\n",
       "0  DT  NB  0.013794  0.006620  0.007174  0.001384  5.184603  0.001000   \n",
       "1  DT  RF  0.013794  0.016294 -0.002500  0.001384 -1.806785  0.171033   \n",
       "2  NB  RF  0.006620  0.016294 -0.009674  0.001384 -6.991389  0.001000   \n",
       "\n",
       "     hedges  \n",
       "0  2.220655  \n",
       "1 -0.773877  \n",
       "2 -2.994532  "
      ]
     },
     "execution_count": 94,
     "metadata": {},
     "output_type": "execute_result"
    }
   ],
   "source": [
    "pg.pairwise_tukey(data=df, dv='f1m', between='classifier')"
   ]
  },
  {
   "cell_type": "code",
   "execution_count": 96,
   "metadata": {},
   "outputs": [
    {
     "data": {
      "text/html": [
       "<div>\n",
       "<style scoped>\n",
       "    .dataframe tbody tr th:only-of-type {\n",
       "        vertical-align: middle;\n",
       "    }\n",
       "\n",
       "    .dataframe tbody tr th {\n",
       "        vertical-align: top;\n",
       "    }\n",
       "\n",
       "    .dataframe thead th {\n",
       "        text-align: right;\n",
       "    }\n",
       "</style>\n",
       "<table border=\"1\" class=\"dataframe\">\n",
       "  <thead>\n",
       "    <tr style=\"text-align: right;\">\n",
       "      <th></th>\n",
       "      <th>A</th>\n",
       "      <th>B</th>\n",
       "      <th>mean(A)</th>\n",
       "      <th>mean(B)</th>\n",
       "      <th>diff</th>\n",
       "      <th>se</th>\n",
       "      <th>T</th>\n",
       "      <th>p-tukey</th>\n",
       "      <th>hedges</th>\n",
       "    </tr>\n",
       "  </thead>\n",
       "  <tbody>\n",
       "    <tr>\n",
       "      <th>0</th>\n",
       "      <td>DT</td>\n",
       "      <td>NB</td>\n",
       "      <td>0.265082</td>\n",
       "      <td>0.260391</td>\n",
       "      <td>0.004691</td>\n",
       "      <td>0.002933</td>\n",
       "      <td>1.599135</td>\n",
       "      <td>0.249014</td>\n",
       "      <td>0.684937</td>\n",
       "    </tr>\n",
       "    <tr>\n",
       "      <th>1</th>\n",
       "      <td>DT</td>\n",
       "      <td>RF</td>\n",
       "      <td>0.265082</td>\n",
       "      <td>0.266168</td>\n",
       "      <td>-0.001087</td>\n",
       "      <td>0.002933</td>\n",
       "      <td>-0.370470</td>\n",
       "      <td>0.900000</td>\n",
       "      <td>-0.158678</td>\n",
       "    </tr>\n",
       "    <tr>\n",
       "      <th>2</th>\n",
       "      <td>NB</td>\n",
       "      <td>RF</td>\n",
       "      <td>0.260391</td>\n",
       "      <td>0.266168</td>\n",
       "      <td>-0.005777</td>\n",
       "      <td>0.002933</td>\n",
       "      <td>-1.969604</td>\n",
       "      <td>0.123647</td>\n",
       "      <td>-0.843615</td>\n",
       "    </tr>\n",
       "  </tbody>\n",
       "</table>\n",
       "</div>"
      ],
      "text/plain": [
       "    A   B   mean(A)   mean(B)      diff        se         T   p-tukey  \\\n",
       "0  DT  NB  0.265082  0.260391  0.004691  0.002933  1.599135  0.249014   \n",
       "1  DT  RF  0.265082  0.266168 -0.001087  0.002933 -0.370470  0.900000   \n",
       "2  NB  RF  0.260391  0.266168 -0.005777  0.002933 -1.969604  0.123647   \n",
       "\n",
       "     hedges  \n",
       "0  0.684937  \n",
       "1 -0.158678  \n",
       "2 -0.843615  "
      ]
     },
     "execution_count": 96,
     "metadata": {},
     "output_type": "execute_result"
    }
   ],
   "source": [
    "pg.pairwise_tukey(data=df, dv='accuracy', between='classifier')"
   ]
  },
  {
   "cell_type": "code",
   "execution_count": null,
   "metadata": {},
   "outputs": [],
   "source": []
  }
 ],
 "metadata": {
  "kernelspec": {
   "display_name": "Python 3",
   "language": "python",
   "name": "python3"
  },
  "language_info": {
   "codemirror_mode": {
    "name": "ipython",
    "version": 3
   },
   "file_extension": ".py",
   "mimetype": "text/x-python",
   "name": "python",
   "nbconvert_exporter": "python",
   "pygments_lexer": "ipython3",
   "version": "3.9.1"
  }
 },
 "nbformat": 4,
 "nbformat_minor": 4
}
